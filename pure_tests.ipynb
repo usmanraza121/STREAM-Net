{
 "cells": [
  {
   "cell_type": "code",
   "execution_count": 1,
   "id": "c3d7a3cf-b706-430b-9e91-afb07290702d",
   "metadata": {},
   "outputs": [],
   "source": [
    "import argparse\n",
    "import random\n",
    "import numpy as np\n",
    "import torch\n",
    "from config import get_config\n",
    "from dataset import data_loader\n",
    "from torch.utils.data import DataLoader\n",
    "import sys"
   ]
  },
  {
   "cell_type": "code",
   "execution_count": 2,
   "id": "f180cda8-ebae-4fbc-9b45-495fb47123cb",
   "metadata": {},
   "outputs": [],
   "source": [
    "def add_args(parser):\n",
    "    \"\"\"Adds arguments for parser.\"\"\"\n",
    "    parser.add_argument('--config_file', required=False,\n",
    "                        default=\"configs/train_configs/PURE_PURE_MMPD_TSCAN_BASIC.yaml\", type=str, help=\"The name of the model.\")\n",
    "    '''Neural Method Sample YAML LIST:\n",
    "      SCAMPS_SCAMPS_UBFC-rPPG_TSCAN_BASIC.yaml\n",
    "      SCAMPS_SCAMPS_UBFC-rPPG_DEEPPHYS_BASIC.yaml\n",
    "      SCAMPS_SCAMPS_UBFC-rPPG_PHYSNET_BASIC.yaml\n",
    "      SCAMPS_SCAMPS_PURE_DEEPPHYS_BASIC.yaml\n",
    "      SCAMPS_SCAMPS_PURE_TSCAN_BASIC.yaml\n",
    "      SCAMPS_SCAMPS_PURE_PHYSNET_BASIC.yaml\n",
    "      PURE_PURE_UBFC-rPPG_TSCAN_BASIC.yaml\n",
    "      PURE_PURE_UBFC-rPPG_DEEPPHYS_BASIC.yaml\n",
    "      PURE_PURE_UBFC-rPPG_PHYSNET_BASIC.yaml\n",
    "      PURE_PURE_MMPD_TSCAN_BASIC.yaml\n",
    "      UBFC-rPPG_UBFC-rPPG_PURE_TSCAN_BASIC.yaml\n",
    "      UBFC-rPPG_UBFC-rPPG_PURE_DEEPPHYS_BASIC.yaml\n",
    "      UBFC-rPPG_UBFC-rPPG_PURE_PHYSNET_BASIC.yaml\n",
    "      MMPD_MMPD_UBFC-rPPG_TSCAN_BASIC.yaml\n",
    "    Unsupervised Method Sample YAML LIST:\n",
    "      PURE_UNSUPERVISED.yaml\n",
    "      UBFC-rPPG_UNSUPERVISED.yaml\n",
    "    '''\n",
    "    return parser"
   ]
  },
  {
   "cell_type": "code",
   "execution_count": 3,
   "id": "3d0a74e7-d97b-4bcc-874f-46654c089c2c",
   "metadata": {},
   "outputs": [
    {
     "name": "stdout",
     "output_type": "stream",
     "text": [
      "['']\n",
      "=> Merging a config file from configs/train_configs/PURE_PURE_MMPD_TSCAN_BASIC.yaml\n",
      "\n",
      "\n",
      "\n",
      "\n"
     ]
    }
   ],
   "source": [
    "parser = argparse.ArgumentParser()\n",
    "parser = add_args(parser)\n",
    "# parser = trainer.BaseTrainer.BaseTrainer.add_trainer_args(parser)\n",
    "parser = data_loader.BaseLoader.BaseLoader.add_data_loader_args(parser)\n",
    "sys.argv = ['']\n",
    "print(sys.argv)\n",
    "args = parser.parse_args()\n",
    "\n",
    "# configurations.\n",
    "config = get_config(args)\n",
    "#print('Configuration:')\n",
    "#print(config, end='\\n\\n')"
   ]
  },
  {
   "cell_type": "code",
   "execution_count": 4,
   "id": "d1dfd40d-6b0b-48e2-ac64-9856d0b63f1d",
   "metadata": {},
   "outputs": [],
   "source": [
    "from dataset.data_loader import PURELoader"
   ]
  },
  {
   "cell_type": "code",
   "execution_count": 5,
   "id": "4f577279-5e40-4f29-be81-d191aa9344e3",
   "metadata": {},
   "outputs": [],
   "source": [
    "data_path = \"C:\\\\Users\\\\JacekR\\\\datasets\\\\PURE\""
   ]
  },
  {
   "cell_type": "code",
   "execution_count": 6,
   "id": "11ff18c9-b567-42f9-8301-7362b435b62e",
   "metadata": {},
   "outputs": [
    {
     "name": "stdout",
     "output_type": "stream",
     "text": [
      "CACHED_PATH 1: c:\\Users\\JacekR\\datasets\\rppg_toolbox\\PreprocessedData\\\n",
      "0101\n",
      "0102\n",
      "0103\n",
      "0104\n",
      "0105\n",
      "0106\n",
      "0201\n",
      "0202\n",
      "0203\n",
      "0204\n",
      "0205\n",
      "0206\n",
      "0301\n",
      "0302\n",
      "0303\n",
      "0304\n",
      "0305\n",
      "0306\n",
      "0401\n",
      "0402\n",
      "0403\n",
      "0404\n",
      "0405\n",
      "0406\n",
      "0501\n",
      "0502\n",
      "0503\n",
      "0504\n",
      "0505\n",
      "0506\n",
      "0601\n",
      "0603\n",
      "0604\n",
      "0605\n",
      "0606\n",
      "0701\n",
      "0702\n",
      "0703\n",
      "0704\n",
      "0705\n",
      "0706\n",
      "0801\n",
      "0802\n",
      "0803\n",
      "0804\n",
      "0805\n",
      "0806\n",
      "0901\n",
      "0902\n",
      "0903\n",
      "0904\n",
      "0905\n",
      "0906\n",
      "1001\n",
      "1002\n",
      "1003\n",
      "1004\n",
      "1005\n",
      "1006\n",
      "Preprocessing dataset...\n"
     ]
    },
    {
     "name": "stderr",
     "output_type": "stream",
     "text": [
      "100%|██████████████████████████████████████████████████████████████████████████████████| 47/47 [02:54<00:00,  3.71s/it]"
     ]
    },
    {
     "name": "stdout",
     "output_type": "stream",
     "text": [
      "Total Number of raw files preprocessed: 47\n",
      "\n",
      "Cached Data Path c:\\Users\\JacekR\\datasets\\rppg_toolbox\\PreprocessedData\\\n",
      "\n",
      "File List Path c:\\Users\\JacekR\\datasets\\rppg_toolbox\\PreprocessedData\\DataFileLists\\_0.0_0.8.csv\n",
      " PURELoader Preprocessed Dataset Length: 354\n",
      "\n"
     ]
    },
    {
     "name": "stderr",
     "output_type": "stream",
     "text": [
      "\n"
     ]
    }
   ],
   "source": [
    "loader = PURELoader.PURELoader(name=\"PURELoader\", data_path=data_path, config_data=config.TRAIN.DATA)"
   ]
  },
  {
   "cell_type": "markdown",
   "id": "f39e18c9-971b-4af2-9285-100cedc21012",
   "metadata": {},
   "source": [
    "python main.py --config_file ./configs/train_configs/PURE_PURE_PURE_TSCAN_BASIC.yaml"
   ]
  },
  {
   "cell_type": "code",
   "execution_count": null,
   "id": "b9904643-faad-4240-8329-972f7d740287",
   "metadata": {},
   "outputs": [],
   "source": []
  }
 ],
 "metadata": {
  "kernelspec": {
   "display_name": "Python 3 (ipykernel)",
   "language": "python",
   "name": "python3"
  },
  "language_info": {
   "codemirror_mode": {
    "name": "ipython",
    "version": 3
   },
   "file_extension": ".py",
   "mimetype": "text/x-python",
   "name": "python",
   "nbconvert_exporter": "python",
   "pygments_lexer": "ipython3",
   "version": "3.9.4"
  }
 },
 "nbformat": 4,
 "nbformat_minor": 5
}
